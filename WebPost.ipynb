{
 "cells": [
  {
   "cell_type": "code",
   "execution_count": 215,
   "metadata": {},
   "outputs": [],
   "source": [
    "#imports\n",
    "\n",
    "import requests\n",
    "import pickle\n",
    "import os\n",
    "import tweepy\n",
    "import sys"
   ]
  },
  {
   "cell_type": "code",
   "execution_count": 216,
   "metadata": {},
   "outputs": [],
   "source": [
    "#This stuff supports the tinyurl block\n",
    "from __future__ import with_statement                                                        \n",
    "import contextlib\n",
    "try:\n",
    "    from urllib.parse import urlencode          \n",
    "except ImportError:\n",
    "    from urllib import urlencode \n",
    "try:\n",
    "    from urllib.request import urlopen \n",
    "except ImportError:\n",
    "    from urllib2 import urlopen \n"
   ]
  },
  {
   "cell_type": "code",
   "execution_count": 217,
   "metadata": {},
   "outputs": [],
   "source": [
    "# This will post a blog entry\n",
    "def MakeABlogPost(Title, Body):\n",
    "\n",
    "    # Save the thing we want to post to a file\n",
    "    ToPost={\"title\":Title,\"content\":Body}\n",
    "    f=open(\"./ToPost.pkl\",'wb')\n",
    "    pickle.dump(ToPost,f)\n",
    "    f.close()\n",
    "\n",
    "    # Run this python script that does the business\n",
    "    stream = os.popen('python3 blogger.py --noauth_local_webserver')\n",
    "    output = stream.read()\n",
    "    \n",
    "    #tidy up and json-ify output\n",
    "    return output\n",
    "\n",
    "\n",
    "# This will make a blog tweet\n",
    "def MakeATweet(text):\n",
    "\n",
    "    #Load twitter credential keys from file\n",
    "    f=open(\"./TwitterCreds.pkl\",'rb')\n",
    "    TwitterCreds=pickle.load(f)\n",
    "    f.close()\n",
    "                             \n",
    "    #Open the twitter API\n",
    "    api = tweepy.Client(bearer_token    = TwitterCreds['bearer_token'],\n",
    "                    access_token        = TwitterCreds['access_token'],\n",
    "                    access_token_secret = TwitterCreds['access_token_secret'],\n",
    "                    consumer_key        = TwitterCreds['consumer_key'],\n",
    "                    consumer_secret     = TwitterCreds['consumer_secret_key'])\n",
    "\n",
    "    # Create a tweet\n",
    "    api.create_tweet(text=text)\n",
    "    \n",
    "\n",
    "# This will make a shortened url\n",
    "def make_tiny(url):\n",
    "    request_url = ('http://tinyurl.com/api-create.php?' + urlencode({'url':url}))   \n",
    "    with contextlib.closing(urlopen(request_url)) as response:                      \n",
    "        return response.read().decode('utf-8 ') \n",
    "\n",
    "    "
   ]
  },
  {
   "cell_type": "code",
   "execution_count": 220,
   "metadata": {},
   "outputs": [],
   "source": [
    "#Put it all together and issue a horoscope\n",
    "\n",
    "def IssueHoroscope(BlogTitle,BlogText,TweetText):\n",
    "    if((len(TweetText) + 48)>275):\n",
    "        print(\"Warning, your tweet is too many characters, I am not going to post it!\")\n",
    "        return -1\n",
    "\n",
    "    output=MakeABlogPost(BlogTitle,BlogText)\n",
    "    returnstuff=output[output.find(\"{\"):].replace(\"'\",'\"').replace('\"\"','\"')[:-1]\n",
    "    paresedoutput=json.loads(returnstuff)\n",
    "\n",
    "    url= make_tiny(paresedoutput['url'])\n",
    "\n",
    "    MakeATweet(TweetText+\" Full horoscope at: \" +str(url))\n",
    "    return 0\n"
   ]
  },
  {
   "cell_type": "code",
   "execution_count": 221,
   "metadata": {},
   "outputs": [
    {
     "data": {
      "text/plain": [
       "0"
      ]
     },
     "execution_count": 221,
     "metadata": {},
     "output_type": "execute_result"
    }
   ],
   "source": [
    "# Example of how to use it!\n",
    "\n",
    "BlogTitle=\"Neutrino observed in Taurus!\"\n",
    "BlogText=\"A new neutrino candidate was detected from Taurus! It means you will get rich!\"\n",
    "TweetText=\"A new neutrino candidate was detected from Taurus!\"\n",
    "\n",
    "IssueHoroscope(BlogTitle,BlogText,TweetText)"
   ]
  },
  {
   "cell_type": "code",
   "execution_count": null,
   "metadata": {},
   "outputs": [],
   "source": []
  }
 ],
 "metadata": {
  "kernelspec": {
   "display_name": "Python 3",
   "language": "python",
   "name": "python3"
  },
  "language_info": {
   "codemirror_mode": {
    "name": "ipython",
    "version": 3
   },
   "file_extension": ".py",
   "mimetype": "text/x-python",
   "name": "python",
   "nbconvert_exporter": "python",
   "pygments_lexer": "ipython3",
   "version": "3.8.6"
  }
 },
 "nbformat": 4,
 "nbformat_minor": 4
}
